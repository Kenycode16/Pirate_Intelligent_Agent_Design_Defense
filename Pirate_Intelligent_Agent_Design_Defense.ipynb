{
 "cells": [
  {
   "cell_type": "markdown",
   "metadata": {},
   "source": [
    "# Treasure Hunt Game Notebook\n",
    "\n",
    "## Read and Review Your Starter Code\n",
    "The theme of this project is a popular treasure hunt game in which the player needs to find the treasure before the pirate does. While you will not be developing the entire game, you will write the part of the game that represents the intelligent agent, which is a pirate in this case. The pirate will try to find the optimal path to the treasure using deep Q-learning. \n",
    "\n",
    "You have been provided with two Python classes and this notebook to help you with this assignment. The first class, TreasureMaze.py, represents the environment, which includes a maze object defined as a matrix. The second class, GameExperience.py, stores the episodes – that is, all the states that come in between the initial state and the terminal state. This is later used by the agent for learning by experience, called \"exploration\". This notebook shows how to play a game. Your task is to complete the deep Q-learning implementation for which a skeleton implementation has been provided. The code blocks you will need to complete has #TODO as a header.\n",
    "\n",
    "First, read and review the next few code and instruction blocks to understand the code that you have been given."
   ]
  },
  {
   "cell_type": "code",
   "execution_count": 94,
   "metadata": {},
   "outputs": [],
   "source": [
    "from __future__ import print_function\n",
    "import os, sys, time, datetime, json, random\n",
    "import numpy as np\n",
    "from keras.models import Sequential\n",
    "from keras.layers.core import Dense, Activation\n",
    "from keras.optimizers import SGD , Adam, RMSprop\n",
    "from keras.layers.advanced_activations import PReLU\n",
    "import matplotlib.pyplot as plt\n",
    "from TreasureMaze import TreasureMaze\n",
    "from GameExperience import GameExperience\n",
    "%matplotlib inline"
   ]
  },
  {
   "cell_type": "markdown",
   "metadata": {},
   "source": [
    "The following code block contains an 8x8 matrix that will be used as a maze object:"
   ]
  },
  {
   "cell_type": "code",
   "execution_count": 95,
   "metadata": {},
   "outputs": [],
   "source": [
    "maze = np.array([\n",
    "    [ 1.,  0.,  1.,  1.,  1.,  1.,  1.,  1.],\n",
    "    [ 1.,  0.,  1.,  1.,  1.,  0.,  1.,  1.],\n",
    "    [ 1.,  1.,  1.,  1.,  0.,  1.,  0.,  1.],\n",
    "    [ 1.,  1.,  1.,  0.,  1.,  1.,  1.,  1.],\n",
    "    [ 1.,  1.,  0.,  1.,  1.,  1.,  1.,  1.],\n",
    "    [ 1.,  1.,  1.,  0.,  1.,  0.,  0.,  0.],\n",
    "    [ 1.,  1.,  1.,  0.,  1.,  1.,  1.,  1.],\n",
    "    [ 1.,  1.,  1.,  1.,  0.,  1.,  1.,  1.]\n",
    "])"
   ]
  },
  {
   "cell_type": "markdown",
   "metadata": {},
   "source": [
    "This helper function allows a visual representation of the maze object:"
   ]
  },
  {
   "cell_type": "code",
   "execution_count": 96,
   "metadata": {},
   "outputs": [],
   "source": [
    "def show(qmaze):\n",
    "    plt.grid('on')\n",
    "    nrows, ncols = qmaze.maze.shape\n",
    "    ax = plt.gca()\n",
    "    ax.set_xticks(np.arange(0.5, nrows, 1))\n",
    "    ax.set_yticks(np.arange(0.5, ncols, 1))\n",
    "    ax.set_xticklabels([])\n",
    "    ax.set_yticklabels([])\n",
    "    canvas = np.copy(qmaze.maze)\n",
    "    for row,col in qmaze.visited:\n",
    "        canvas[row,col] = 0.6\n",
    "    pirate_row, pirate_col, _ = qmaze.state\n",
    "    canvas[pirate_row, pirate_col] = 0.3   # pirate cell\n",
    "    canvas[nrows-1, ncols-1] = 0.9 # treasure cell\n",
    "    img = plt.imshow(canvas, interpolation='none', cmap='gray')\n",
    "    return img"
   ]
  },
  {
   "cell_type": "markdown",
   "metadata": {},
   "source": [
    "The pirate agent can move in four directions: left, right, up, and down. \n",
    "\n",
    "While the agent primarily learns by experience through exploitation, often, the agent can choose to explore the environment to find previously undiscovered paths. This is called \"exploration\" and is defined by epsilon. This value is typically a lower value such as 0.1, which means for every ten attempts, the agent will attempt to learn by experience nine times and will randomly explore a new path one time. You are encouraged to try various values for the exploration factor and see how the algorithm performs."
   ]
  },
  {
   "cell_type": "code",
   "execution_count": 97,
   "metadata": {},
   "outputs": [],
   "source": [
    "LEFT = 0\n",
    "UP = 1\n",
    "RIGHT = 2\n",
    "DOWN = 3\n",
    "\n",
    "\n",
    "# Exploration factor\n",
    "epsilon = 0.1\n",
    "\n",
    "# Actions dictionary\n",
    "actions_dict = {\n",
    "    LEFT: 'left',\n",
    "    UP: 'up',\n",
    "    RIGHT: 'right',\n",
    "    DOWN: 'down',\n",
    "}\n",
    "\n",
    "num_actions = len(actions_dict)\n"
   ]
  },
  {
   "cell_type": "markdown",
   "metadata": {},
   "source": [
    "The sample code block and output below show creating a maze object and performing one action (DOWN), which returns the reward. The resulting updated environment is visualized."
   ]
  },
  {
   "cell_type": "code",
   "execution_count": 98,
   "metadata": {},
   "outputs": [
    {
     "name": "stdout",
     "output_type": "stream",
     "text": [
      "reward= -0.04\n"
     ]
    },
    {
     "data": {
      "text/plain": [
       "<matplotlib.image.AxesImage at 0x278313c9a88>"
      ]
     },
     "execution_count": 98,
     "metadata": {},
     "output_type": "execute_result"
    },
    {
     "data": {
      "image/png": "[encoded data removed]",
      "text/plain": [
       "<Figure size 432x288 with 1 Axes>"
      ]
     },
     "metadata": {
      "needs_background": "light"
     },
     "output_type": "display_data"
    }
   ],
   "source": [
    "qmaze = TreasureMaze(maze)\n",
    "canvas, reward, game_over = qmaze.act(DOWN)\n",
    "print(\"reward=\", reward)\n",
    "show(qmaze)"
   ]
  },
  {
   "cell_type": "markdown",
   "metadata": {},
   "source": [
    "This function simulates a full game based on the provided trained model. The other parameters include the TreasureMaze object and the starting position of the pirate."
   ]
  },
  {
   "cell_type": "code",
   "execution_count": 99,
   "metadata": {},
   "outputs": [],
   "source": [
    "def play_game(model, qmaze, pirate_cell):\n",
    "    qmaze.reset(pirate_cell)\n",
    "    envstate = qmaze.observe()\n",
    "    while True:\n",
    "        prev_envstate = envstate\n",
    "        # get next action\n",
    "        q = model.predict(prev_envstate)\n",
    "        action = np.argmax(q[0])\n",
    "\n",
    "        # apply action, get rewards and new state\n",
    "        envstate, reward, game_status = qmaze.act(action)\n",
    "        if game_status == 'win':\n",
    "            return True\n",
    "        elif game_status == 'lose':\n",
    "            return False"
   ]
  },
  {
   "cell_type": "markdown",
   "metadata": {},
   "source": [
    "This function helps you to determine whether the pirate can win any game at all. If your maze is not well designed, the pirate may not win any game at all. In this case, your training would not yield any result. The provided maze in this notebook ensures that there is a path to win and you can run this method to check."
   ]
  },
  {
   "cell_type": "code",
   "execution_count": 100,
   "metadata": {},
   "outputs": [],
   "source": [
    "def completion_check(model, qmaze):\n",
    "    for cell in qmaze.free_cells:\n",
    "        if not qmaze.valid_actions(cell):\n",
    "            return False\n",
    "        if not play_game(model, qmaze, cell):\n",
    "            return False\n",
    "    return True"
   ]
  },
  {
   "cell_type": "markdown",
   "metadata": {},
   "source": [
    "The code you have been given in this block will build the neural network model. Review the code and note the number of layers, as well as the activation, optimizer, and loss functions that are used to train the model."
   ]
  },
  {
   "cell_type": "code",
   "execution_count": 101,
   "metadata": {},
   "outputs": [],
   "source": [
    "def build_model(maze):\n",
    "    model = Sequential()\n",
    "    model.add(Dense(maze.size, input_shape=(maze.size,)))\n",
    "    model.add(PReLU())\n",
    "    model.add(Dense(maze.size))\n",
    "    model.add(PReLU())\n",
    "    model.add(Dense(num_actions))\n",
    "    model.compile(optimizer='adam', loss='mse')\n",
    "    return model"
   ]
  },
  {
   "cell_type": "markdown",
   "metadata": {},
   "source": [
    "# #TODO: Complete the Q-Training Algorithm Code Block\n",
    "\n",
    "This is your deep Q-learning implementation. The goal of your deep Q-learning implementation is to find the best possible navigation sequence that results in reaching the treasure cell while maximizing the reward. In your implementation, you need to determine the optimal number of epochs to achieve a 100% win rate.\n",
    "\n",
    "You will need to complete the section starting with #pseudocode. The pseudocode has been included for you."
   ]
  },
  {
   "cell_type": "code",
   "execution_count": 102,
   "metadata": {},
   "outputs": [],
   "source": [
    "def qtrain(model, maze, **opt):\n",
    "\n",
    "    # exploration factor\n",
    "    global epsilon \n",
    "\n",
    "    # number of epochs\n",
    "    n_epoch = opt.get('n_epoch', 1000)\n",
    "\n",
    "    # maximum memory to store episodes\n",
    "    max_memory = opt.get('max_memory', 1000)\n",
    "\n",
    "    # maximum data size for training\n",
    "    data_size = opt.get('data_size', 32)\n",
    "\n",
    "    # start time\n",
    "    start_time = datetime.datetime.now()\n",
    "\n",
    "    # Construct environment/game from numpy array: maze (see above)\n",
    "    qmaze = TreasureMaze(maze)\n",
    "\n",
    "    # Initialize experience replay object\n",
    "    experience = GameExperience(model, max_memory=max_memory)\n",
    "    \n",
    "    win_history = []   # history of win/lose game\n",
    "    hsize = qmaze.maze.size//2   # history window size\n",
    "    win_rate = 0.0\n",
    "    \n",
    "    # pseudocode:\n",
    "    # For each epoch:\n",
    "    #    Agent_cell = randomly select a free cell\n",
    "    #    Reset the maze with agent set to above position\n",
    "    #    Hint: Review the reset method in the TreasureMaze.py class.\n",
    "    #    envstate = Environment.current_state\n",
    "    #    Hint: Review the observe method in the TreasureMaze.py class.\n",
    "    #    While state is not game over:\n",
    "    #        previous_envstate = envstate\n",
    "    #        Action = randomly choose action (left, right, up, down) either by exploration or by exploitation\n",
    "    #        envstate, reward, game_status = qmaze.act(action)\n",
    "    #    Hint: Review the act method in the TreasureMaze.py class.\n",
    "    #        episode = [previous_envstate, action, reward, envstate, game_status]\n",
    "    #        Store episode in Experience replay object\n",
    "    #    Hint: Review the remember method in the GameExperience.py class.\n",
    "    #        Train neural network model and evaluate loss\n",
    "    #    Hint: Call GameExperience.get_data to retrieve training data (input and target) and pass to model.fit method \n",
    "    #          to train the model. You can call model.evaluate to determine loss.\n",
    "    #    If the win rate is above the threshold and your model passes the completion check, that would be your epoch.\n",
    "    for epoch in range(n_epoch):\n",
    "        loss = 0.0\n",
    "        n_episodes = 0\n",
    "\n",
    "        # Reset the maze with the agent starting position\n",
    "        free_cells = qmaze.free_cells\n",
    "        pirate_start = random.choice(free_cells)\n",
    "        qmaze.reset(pirate=pirate_start)\n",
    "        envstate = qmaze.observe()\n",
    "\n",
    "        while True:\n",
    "            # Save the current environment state\n",
    "            prev_envstate = envstate\n",
    "\n",
    "            # Epsilon-greedy strategy: explore or exploit\n",
    "            if np.random.rand() < epsilon:\n",
    "                action = random.randint(0, 3)  # Explore\n",
    "            else:\n",
    "                q_values = model.predict(prev_envstate.reshape(1, -1), verbose=0)\n",
    "                action = np.argmax(q_values[0])  # Exploit best action\n",
    "\n",
    "            # Take the chosen action\n",
    "            envstate, reward, game_status = qmaze.act(action)\n",
    "\n",
    "            # Store experience\n",
    "            episode = [prev_envstate, action, reward, envstate, game_status]\n",
    "            experience.remember(episode)\n",
    "\n",
    "            # Train the model using experience replay\n",
    "            inputs, targets = experience.get_data(data_size=data_size)\n",
    "            history = model.fit(inputs, targets, epochs=1, verbose=0)\n",
    "            loss += history.history['loss'][0]\n",
    "\n",
    "            n_episodes += 1\n",
    "\n",
    "            # Check if the game has ended\n",
    "            if game_status in ['win', 'lose']:\n",
    "                win_history.append(1 if game_status == 'win' else 0)\n",
    "                break\n",
    "\n",
    "        # Calculate win rate\n",
    "        if len(win_history) > hsize:\n",
    "            win_rate = sum(win_history[-hsize:]) / hsize\n",
    "\n",
    "        # Display training progress\n",
    "        dt = datetime.datetime.now() - start_time\n",
    "        t = format_time(dt.total_seconds())\n",
    "        template = \"Epoch: {:03d}/{:d} | Loss: {:.4f} | Episodes: {:d} | Win count: {:d} | Win rate: {:.3f} | time: {}\"\n",
    "        print(template.format(epoch, n_epoch - 1, loss, n_episodes, sum(win_history), win_rate, t))\n",
    "\n",
    "        # Reduce exploration if agent performs well\n",
    "        if win_rate > 0.9:\n",
    "            epsilon = 0.05\n",
    "\n",
    "        # Stop training early if 100% win rate is reached and model passes completion check\n",
    "        if sum(win_history[-hsize:]) == hsize and completion_check(model, qmaze):\n",
    "            print(\"Reached 100%% win rate at epoch: %d\" % epoch)\n",
    "            break\n",
    "\n",
    "\n",
    "\n",
    "    #Print the epoch, loss, episodes, win count, and win rate for each epoch\n",
    "        dt = datetime.datetime.now() - start_time\n",
    "        t = format_time(dt.total_seconds())\n",
    "        template = \"Epoch: {:03d}/{:d} | Loss: {:.4f} | Episodes: {:d} | Win count: {:d} | Win rate: {:.3f} | time: {}\"\n",
    "        print(template.format(epoch, n_epoch-1, loss, n_episodes, sum(win_history), win_rate, t))\n",
    "        # We simply check if training has exhausted all free cells and if in all\n",
    "        # cases the agent won.\n",
    "        if win_rate > 0.9 : epsilon = 0.05\n",
    "        if sum(win_history[-hsize:]) == hsize and completion_check(model, qmaze):\n",
    "            print(\"Reached 100%% win rate at epoch: %d\" % (epoch,))\n",
    "            break\n",
    "    \n",
    "    \n",
    "    # Determine the total time for training\n",
    "    dt = datetime.datetime.now() - start_time\n",
    "    seconds = dt.total_seconds()\n",
    "    t = format_time(seconds)\n",
    "\n",
    "    print(\"n_epoch: %d, max_mem: %d, data: %d, time: %s\" % (epoch, max_memory, data_size, t))\n",
    "    return seconds\n",
    "\n",
    "# This is a small utility for printing readable time strings:\n",
    "def format_time(seconds):\n",
    "    if seconds < 400:\n",
    "        s = float(seconds)\n",
    "        return \"%.1f seconds\" % (s,)\n",
    "    elif seconds < 4000:\n",
    "        m = seconds / 60.0\n",
    "        return \"%.2f minutes\" % (m,)\n",
    "    else:\n",
    "        h = seconds / 3600.0\n",
    "        return \"%.2f hours\" % (h,)"
   ]
  },
  {
   "cell_type": "markdown",
   "metadata": {},
   "source": [
    "## Test Your Model\n",
    "\n",
    "Now we will start testing the deep Q-learning implementation. To begin, select **Cell**, then **Run All** from the menu bar. This will run your notebook. As it runs, you should see output begin to appear beneath the next few cells. The code below creates an instance of TreasureMaze."
   ]
  },
  {
   "cell_type": "code",
   "execution_count": 103,
   "metadata": {},
   "outputs": [
    {
     "data": {
      "text/plain": [
       "<matplotlib.image.AxesImage at 0x27831433208>"
      ]
     },
     "execution_count": 103,
     "metadata": {},
     "output_type": "execute_result"
    },
    {
     "data": {
      "image/png": "[encoded data removed]",
      "text/plain": [
       "<Figure size 432x288 with 1 Axes>"
      ]
     },
     "metadata": {
      "needs_background": "light"
     },
     "output_type": "display_data"
    }
   ],
   "source": [
    "qmaze = TreasureMaze(maze)\n",
    "show(qmaze)"
   ]
  },
  {
   "cell_type": "markdown",
   "metadata": {},
   "source": [
    "In the next code block, you will build your model and train it using deep Q-learning. Note: This step takes several minutes to fully run."
   ]
  },
  {
   "cell_type": "code",
   "execution_count": 104,
   "metadata": {},
   "outputs": [
    {
     "name": "stdout",
     "output_type": "stream",
     "text": [
      "Epoch: 000/999 | Loss: 0.5265 | Episodes: 139 | Win count: 0 | Win rate: 0.000 | time: 13.9 seconds\n",
      "Epoch: 000/999 | Loss: 0.5265 | Episodes: 139 | Win count: 0 | Win rate: 0.000 | time: 13.9 seconds\n",
      "Epoch: 001/999 | Loss: 0.1225 | Episodes: 134 | Win count: 0 | Win rate: 0.000 | time: 28.3 seconds\n",
      "Epoch: 001/999 | Loss: 0.1225 | Episodes: 134 | Win count: 0 | Win rate: 0.000 | time: 28.3 seconds\n",
      "Epoch: 002/999 | Loss: 0.1197 | Episodes: 145 | Win count: 0 | Win rate: 0.000 | time: 42.7 seconds\n",
      "Epoch: 002/999 | Loss: 0.1197 | Episodes: 145 | Win count: 0 | Win rate: 0.000 | time: 42.7 seconds\n",
      "Epoch: 003/999 | Loss: 0.1245 | Episodes: 139 | Win count: 0 | Win rate: 0.000 | time: 57.4 seconds\n",
      "Epoch: 003/999 | Loss: 0.1245 | Episodes: 139 | Win count: 0 | Win rate: 0.000 | time: 57.4 seconds\n",
      "Epoch: 004/999 | Loss: 0.1183 | Episodes: 133 | Win count: 0 | Win rate: 0.000 | time: 72.3 seconds\n",
      "Epoch: 004/999 | Loss: 0.1183 | Episodes: 133 | Win count: 0 | Win rate: 0.000 | time: 72.3 seconds\n",
      "Epoch: 005/999 | Loss: 0.1222 | Episodes: 135 | Win count: 0 | Win rate: 0.000 | time: 88.6 seconds\n",
      "Epoch: 005/999 | Loss: 0.1222 | Episodes: 135 | Win count: 0 | Win rate: 0.000 | time: 88.6 seconds\n",
      "Epoch: 006/999 | Loss: 0.0457 | Episodes: 53 | Win count: 1 | Win rate: 0.000 | time: 95.7 seconds\n",
      "Epoch: 006/999 | Loss: 0.0457 | Episodes: 53 | Win count: 1 | Win rate: 0.000 | time: 95.7 seconds\n",
      "Epoch: 007/999 | Loss: 0.2351 | Episodes: 146 | Win count: 1 | Win rate: 0.000 | time: 116.4 seconds\n",
      "Epoch: 007/999 | Loss: 0.2351 | Episodes: 146 | Win count: 1 | Win rate: 0.000 | time: 116.4 seconds\n",
      "Epoch: 008/999 | Loss: 0.2297 | Episodes: 137 | Win count: 1 | Win rate: 0.000 | time: 136.3 seconds\n",
      "Epoch: 008/999 | Loss: 0.2297 | Episodes: 137 | Win count: 1 | Win rate: 0.000 | time: 136.3 seconds\n",
      "Epoch: 009/999 | Loss: 0.2956 | Episodes: 136 | Win count: 1 | Win rate: 0.000 | time: 152.6 seconds\n",
      "Epoch: 009/999 | Loss: 0.2956 | Episodes: 136 | Win count: 1 | Win rate: 0.000 | time: 152.6 seconds\n",
      "Epoch: 010/999 | Loss: 0.1774 | Episodes: 137 | Win count: 1 | Win rate: 0.000 | time: 168.2 seconds\n",
      "Epoch: 010/999 | Loss: 0.1774 | Episodes: 137 | Win count: 1 | Win rate: 0.000 | time: 168.2 seconds\n",
      "Epoch: 011/999 | Loss: 0.1215 | Episodes: 139 | Win count: 1 | Win rate: 0.000 | time: 183.0 seconds\n",
      "Epoch: 011/999 | Loss: 0.1215 | Episodes: 139 | Win count: 1 | Win rate: 0.000 | time: 183.0 seconds\n",
      "Epoch: 012/999 | Loss: 0.1410 | Episodes: 151 | Win count: 1 | Win rate: 0.000 | time: 199.7 seconds\n",
      "Epoch: 012/999 | Loss: 0.1410 | Episodes: 151 | Win count: 1 | Win rate: 0.000 | time: 199.7 seconds\n",
      "Epoch: 013/999 | Loss: 0.1683 | Episodes: 141 | Win count: 1 | Win rate: 0.000 | time: 215.4 seconds\n",
      "Epoch: 013/999 | Loss: 0.1683 | Episodes: 141 | Win count: 1 | Win rate: 0.000 | time: 215.4 seconds\n",
      "Epoch: 014/999 | Loss: 0.1782 | Episodes: 144 | Win count: 1 | Win rate: 0.000 | time: 230.7 seconds\n",
      "Epoch: 014/999 | Loss: 0.1782 | Episodes: 144 | Win count: 1 | Win rate: 0.000 | time: 230.7 seconds\n",
      "Epoch: 015/999 | Loss: 0.1757 | Episodes: 139 | Win count: 1 | Win rate: 0.000 | time: 244.7 seconds\n",
      "Epoch: 015/999 | Loss: 0.1757 | Episodes: 139 | Win count: 1 | Win rate: 0.000 | time: 244.7 seconds\n",
      "Epoch: 016/999 | Loss: 0.1530 | Episodes: 141 | Win count: 1 | Win rate: 0.000 | time: 258.8 seconds\n",
      "Epoch: 016/999 | Loss: 0.1530 | Episodes: 141 | Win count: 1 | Win rate: 0.000 | time: 258.8 seconds\n",
      "Epoch: 017/999 | Loss: 0.1617 | Episodes: 150 | Win count: 1 | Win rate: 0.000 | time: 274.8 seconds\n",
      "Epoch: 017/999 | Loss: 0.1617 | Episodes: 150 | Win count: 1 | Win rate: 0.000 | time: 274.8 seconds\n",
      "Epoch: 018/999 | Loss: 0.1493 | Episodes: 139 | Win count: 1 | Win rate: 0.000 | time: 289.1 seconds\n",
      "Epoch: 018/999 | Loss: 0.1493 | Episodes: 139 | Win count: 1 | Win rate: 0.000 | time: 289.1 seconds\n",
      "Epoch: 019/999 | Loss: 0.1678 | Episodes: 151 | Win count: 1 | Win rate: 0.000 | time: 306.0 seconds\n",
      "Epoch: 019/999 | Loss: 0.1678 | Episodes: 151 | Win count: 1 | Win rate: 0.000 | time: 306.0 seconds\n",
      "Epoch: 020/999 | Loss: 0.0696 | Episodes: 61 | Win count: 2 | Win rate: 0.000 | time: 312.1 seconds\n",
      "Epoch: 020/999 | Loss: 0.0696 | Episodes: 61 | Win count: 2 | Win rate: 0.000 | time: 312.1 seconds\n",
      "Epoch: 021/999 | Loss: 0.2946 | Episodes: 155 | Win count: 2 | Win rate: 0.000 | time: 329.3 seconds\n",
      "Epoch: 021/999 | Loss: 0.2946 | Episodes: 155 | Win count: 2 | Win rate: 0.000 | time: 329.3 seconds\n",
      "Epoch: 022/999 | Loss: 0.0065 | Episodes: 5 | Win count: 3 | Win rate: 0.000 | time: 329.7 seconds\n",
      "Epoch: 022/999 | Loss: 0.0065 | Episodes: 5 | Win count: 3 | Win rate: 0.000 | time: 329.7 seconds\n",
      "Epoch: 023/999 | Loss: 0.2495 | Episodes: 87 | Win count: 4 | Win rate: 0.000 | time: 338.5 seconds\n",
      "Epoch: 023/999 | Loss: 0.2495 | Episodes: 87 | Win count: 4 | Win rate: 0.000 | time: 338.5 seconds\n",
      "Epoch: 024/999 | Loss: 0.4469 | Episodes: 128 | Win count: 5 | Win rate: 0.000 | time: 353.1 seconds\n",
      "Epoch: 024/999 | Loss: 0.4469 | Episodes: 128 | Win count: 5 | Win rate: 0.000 | time: 353.1 seconds\n",
      "Epoch: 025/999 | Loss: 0.0468 | Episodes: 11 | Win count: 6 | Win rate: 0.000 | time: 354.4 seconds\n",
      "Epoch: 025/999 | Loss: 0.0468 | Episodes: 11 | Win count: 6 | Win rate: 0.000 | time: 354.4 seconds\n",
      "Epoch: 026/999 | Loss: 0.4057 | Episodes: 134 | Win count: 6 | Win rate: 0.000 | time: 368.9 seconds\n",
      "Epoch: 026/999 | Loss: 0.4057 | Episodes: 134 | Win count: 6 | Win rate: 0.000 | time: 368.9 seconds\n",
      "Epoch: 027/999 | Loss: 0.2386 | Episodes: 136 | Win count: 6 | Win rate: 0.000 | time: 383.7 seconds\n",
      "Epoch: 027/999 | Loss: 0.2386 | Episodes: 136 | Win count: 6 | Win rate: 0.000 | time: 383.7 seconds\n",
      "Epoch: 028/999 | Loss: 0.1336 | Episodes: 136 | Win count: 6 | Win rate: 0.000 | time: 6.73 minutes\n",
      "Epoch: 028/999 | Loss: 0.1336 | Episodes: 136 | Win count: 6 | Win rate: 0.000 | time: 6.73 minutes\n",
      "Epoch: 029/999 | Loss: 0.0518 | Episodes: 64 | Win count: 7 | Win rate: 0.000 | time: 6.89 minutes\n",
      "Epoch: 029/999 | Loss: 0.0518 | Episodes: 64 | Win count: 7 | Win rate: 0.000 | time: 6.89 minutes\n",
      "Epoch: 030/999 | Loss: 0.0145 | Episodes: 15 | Win count: 8 | Win rate: 0.000 | time: 6.92 minutes\n",
      "Epoch: 030/999 | Loss: 0.0145 | Episodes: 15 | Win count: 8 | Win rate: 0.000 | time: 6.92 minutes\n",
      "Epoch: 031/999 | Loss: 0.0053 | Episodes: 7 | Win count: 9 | Win rate: 0.000 | time: 6.94 minutes\n",
      "Epoch: 031/999 | Loss: 0.0053 | Episodes: 7 | Win count: 9 | Win rate: 0.000 | time: 6.94 minutes\n",
      "Epoch: 032/999 | Loss: 0.0901 | Episodes: 90 | Win count: 10 | Win rate: 0.312 | time: 7.16 minutes\n",
      "Epoch: 032/999 | Loss: 0.0901 | Episodes: 90 | Win count: 10 | Win rate: 0.312 | time: 7.16 minutes\n",
      "Epoch: 033/999 | Loss: 0.0268 | Episodes: 25 | Win count: 11 | Win rate: 0.344 | time: 7.22 minutes\n",
      "Epoch: 033/999 | Loss: 0.0268 | Episodes: 25 | Win count: 11 | Win rate: 0.344 | time: 7.22 minutes\n",
      "Epoch: 034/999 | Loss: 0.1049 | Episodes: 85 | Win count: 12 | Win rate: 0.375 | time: 7.42 minutes\n",
      "Epoch: 034/999 | Loss: 0.1049 | Episodes: 85 | Win count: 12 | Win rate: 0.375 | time: 7.42 minutes\n",
      "Epoch: 035/999 | Loss: 0.0108 | Episodes: 9 | Win count: 13 | Win rate: 0.406 | time: 7.44 minutes\n",
      "Epoch: 035/999 | Loss: 0.0108 | Episodes: 9 | Win count: 13 | Win rate: 0.406 | time: 7.44 minutes\n",
      "Epoch: 036/999 | Loss: 0.0115 | Episodes: 9 | Win count: 14 | Win rate: 0.438 | time: 7.45 minutes\n",
      "Epoch: 036/999 | Loss: 0.0115 | Episodes: 9 | Win count: 14 | Win rate: 0.438 | time: 7.45 minutes\n",
      "Epoch: 037/999 | Loss: 0.1746 | Episodes: 138 | Win count: 14 | Win rate: 0.438 | time: 7.70 minutes\n",
      "Epoch: 037/999 | Loss: 0.1746 | Episodes: 138 | Win count: 14 | Win rate: 0.438 | time: 7.70 minutes\n",
      "Epoch: 038/999 | Loss: 0.0011 | Episodes: 1 | Win count: 15 | Win rate: 0.438 | time: 7.70 minutes\n",
      "Epoch: 038/999 | Loss: 0.0011 | Episodes: 1 | Win count: 15 | Win rate: 0.438 | time: 7.70 minutes\n",
      "Epoch: 039/999 | Loss: 0.1745 | Episodes: 138 | Win count: 15 | Win rate: 0.438 | time: 7.96 minutes\n",
      "Epoch: 039/999 | Loss: 0.1745 | Episodes: 138 | Win count: 15 | Win rate: 0.438 | time: 7.96 minutes\n",
      "Epoch: 040/999 | Loss: 0.0106 | Episodes: 10 | Win count: 16 | Win rate: 0.469 | time: 7.98 minutes\n",
      "Epoch: 040/999 | Loss: 0.0106 | Episodes: 10 | Win count: 16 | Win rate: 0.469 | time: 7.98 minutes\n",
      "Epoch: 041/999 | Loss: 0.0268 | Episodes: 24 | Win count: 17 | Win rate: 0.500 | time: 8.02 minutes\n",
      "Epoch: 041/999 | Loss: 0.0268 | Episodes: 24 | Win count: 17 | Win rate: 0.500 | time: 8.02 minutes\n",
      "Epoch: 042/999 | Loss: 0.0073 | Episodes: 7 | Win count: 18 | Win rate: 0.531 | time: 8.04 minutes\n",
      "Epoch: 042/999 | Loss: 0.0073 | Episodes: 7 | Win count: 18 | Win rate: 0.531 | time: 8.04 minutes\n",
      "Epoch: 043/999 | Loss: 0.0291 | Episodes: 20 | Win count: 19 | Win rate: 0.562 | time: 8.07 minutes\n",
      "Epoch: 043/999 | Loss: 0.0291 | Episodes: 20 | Win count: 19 | Win rate: 0.562 | time: 8.07 minutes\n",
      "Epoch: 044/999 | Loss: 0.0278 | Episodes: 23 | Win count: 20 | Win rate: 0.594 | time: 8.11 minutes\n",
      "Epoch: 044/999 | Loss: 0.0278 | Episodes: 23 | Win count: 20 | Win rate: 0.594 | time: 8.11 minutes\n",
      "Epoch: 045/999 | Loss: 0.0357 | Episodes: 26 | Win count: 21 | Win rate: 0.625 | time: 8.16 minutes\n",
      "Epoch: 045/999 | Loss: 0.0357 | Episodes: 26 | Win count: 21 | Win rate: 0.625 | time: 8.16 minutes\n",
      "Epoch: 046/999 | Loss: 0.0583 | Episodes: 40 | Win count: 22 | Win rate: 0.656 | time: 8.23 minutes\n",
      "Epoch: 046/999 | Loss: 0.0583 | Episodes: 40 | Win count: 22 | Win rate: 0.656 | time: 8.23 minutes\n",
      "Epoch: 047/999 | Loss: 0.0329 | Episodes: 27 | Win count: 23 | Win rate: 0.688 | time: 8.27 minutes\n",
      "Epoch: 047/999 | Loss: 0.0329 | Episodes: 27 | Win count: 23 | Win rate: 0.688 | time: 8.27 minutes\n",
      "Epoch: 048/999 | Loss: 0.1761 | Episodes: 138 | Win count: 23 | Win rate: 0.688 | time: 8.44 minutes\n",
      "Epoch: 048/999 | Loss: 0.1761 | Episodes: 138 | Win count: 23 | Win rate: 0.688 | time: 8.44 minutes\n",
      "Epoch: 049/999 | Loss: 0.0358 | Episodes: 34 | Win count: 24 | Win rate: 0.719 | time: 8.48 minutes\n",
      "Epoch: 049/999 | Loss: 0.0358 | Episodes: 34 | Win count: 24 | Win rate: 0.719 | time: 8.48 minutes\n",
      "Epoch: 050/999 | Loss: 0.0100 | Episodes: 10 | Win count: 25 | Win rate: 0.750 | time: 8.49 minutes\n",
      "Epoch: 050/999 | Loss: 0.0100 | Episodes: 10 | Win count: 25 | Win rate: 0.750 | time: 8.49 minutes\n",
      "Epoch: 051/999 | Loss: 0.0103 | Episodes: 10 | Win count: 26 | Win rate: 0.781 | time: 8.51 minutes\n",
      "Epoch: 051/999 | Loss: 0.0103 | Episodes: 10 | Win count: 26 | Win rate: 0.781 | time: 8.51 minutes\n",
      "Epoch: 052/999 | Loss: 0.0134 | Episodes: 14 | Win count: 27 | Win rate: 0.781 | time: 8.53 minutes\n",
      "Epoch: 052/999 | Loss: 0.0134 | Episodes: 14 | Win count: 27 | Win rate: 0.781 | time: 8.53 minutes\n",
      "Epoch: 053/999 | Loss: 0.0120 | Episodes: 11 | Win count: 28 | Win rate: 0.812 | time: 8.54 minutes\n",
      "Epoch: 053/999 | Loss: 0.0120 | Episodes: 11 | Win count: 28 | Win rate: 0.812 | time: 8.54 minutes\n",
      "Epoch: 054/999 | Loss: 0.0096 | Episodes: 7 | Win count: 29 | Win rate: 0.812 | time: 8.55 minutes\n",
      "Epoch: 054/999 | Loss: 0.0096 | Episodes: 7 | Win count: 29 | Win rate: 0.812 | time: 8.55 minutes\n",
      "Epoch: 055/999 | Loss: 0.0027 | Episodes: 3 | Win count: 30 | Win rate: 0.812 | time: 8.55 minutes\n",
      "Epoch: 055/999 | Loss: 0.0027 | Episodes: 3 | Win count: 30 | Win rate: 0.812 | time: 8.55 minutes\n",
      "Epoch: 056/999 | Loss: 0.0233 | Episodes: 19 | Win count: 31 | Win rate: 0.812 | time: 8.58 minutes\n",
      "Epoch: 056/999 | Loss: 0.0233 | Episodes: 19 | Win count: 31 | Win rate: 0.812 | time: 8.58 minutes\n",
      "Epoch: 057/999 | Loss: 0.1569 | Episodes: 139 | Win count: 31 | Win rate: 0.781 | time: 8.75 minutes\n",
      "Epoch: 057/999 | Loss: 0.1569 | Episodes: 139 | Win count: 31 | Win rate: 0.781 | time: 8.75 minutes\n",
      "Epoch: 058/999 | Loss: 0.0383 | Episodes: 35 | Win count: 32 | Win rate: 0.812 | time: 8.81 minutes\n",
      "Epoch: 058/999 | Loss: 0.0383 | Episodes: 35 | Win count: 32 | Win rate: 0.812 | time: 8.81 minutes\n",
      "Epoch: 059/999 | Loss: 0.0415 | Episodes: 31 | Win count: 33 | Win rate: 0.844 | time: 8.87 minutes\n",
      "Epoch: 059/999 | Loss: 0.0415 | Episodes: 31 | Win count: 33 | Win rate: 0.844 | time: 8.87 minutes\n",
      "Epoch: 060/999 | Loss: 0.0404 | Episodes: 33 | Win count: 34 | Win rate: 0.875 | time: 8.93 minutes\n",
      "Epoch: 060/999 | Loss: 0.0404 | Episodes: 33 | Win count: 34 | Win rate: 0.875 | time: 8.93 minutes\n",
      "Epoch: 061/999 | Loss: 0.0108 | Episodes: 8 | Win count: 35 | Win rate: 0.875 | time: 8.94 minutes\n",
      "Epoch: 061/999 | Loss: 0.0108 | Episodes: 8 | Win count: 35 | Win rate: 0.875 | time: 8.94 minutes\n",
      "Epoch: 062/999 | Loss: 0.0340 | Episodes: 27 | Win count: 36 | Win rate: 0.875 | time: 8.99 minutes\n",
      "Epoch: 062/999 | Loss: 0.0340 | Episodes: 27 | Win count: 36 | Win rate: 0.875 | time: 8.99 minutes\n",
      "Epoch: 063/999 | Loss: 0.0322 | Episodes: 27 | Win count: 37 | Win rate: 0.875 | time: 9.04 minutes\n",
      "Epoch: 063/999 | Loss: 0.0322 | Episodes: 27 | Win count: 37 | Win rate: 0.875 | time: 9.04 minutes\n",
      "Epoch: 064/999 | Loss: 0.0156 | Episodes: 15 | Win count: 38 | Win rate: 0.875 | time: 9.07 minutes\n",
      "Epoch: 064/999 | Loss: 0.0156 | Episodes: 15 | Win count: 38 | Win rate: 0.875 | time: 9.07 minutes\n",
      "Epoch: 065/999 | Loss: 0.0070 | Episodes: 8 | Win count: 39 | Win rate: 0.875 | time: 9.09 minutes\n",
      "Epoch: 065/999 | Loss: 0.0070 | Episodes: 8 | Win count: 39 | Win rate: 0.875 | time: 9.09 minutes\n",
      "Epoch: 066/999 | Loss: 0.0348 | Episodes: 30 | Win count: 40 | Win rate: 0.875 | time: 9.14 minutes\n",
      "Epoch: 066/999 | Loss: 0.0348 | Episodes: 30 | Win count: 40 | Win rate: 0.875 | time: 9.14 minutes\n",
      "Epoch: 067/999 | Loss: 0.0127 | Episodes: 10 | Win count: 41 | Win rate: 0.875 | time: 9.15 minutes\n",
      "Epoch: 067/999 | Loss: 0.0127 | Episodes: 10 | Win count: 41 | Win rate: 0.875 | time: 9.15 minutes\n",
      "Epoch: 068/999 | Loss: 0.0070 | Episodes: 5 | Win count: 42 | Win rate: 0.875 | time: 9.16 minutes\n",
      "Epoch: 068/999 | Loss: 0.0070 | Episodes: 5 | Win count: 42 | Win rate: 0.875 | time: 9.16 minutes\n",
      "Epoch: 069/999 | Loss: 0.0135 | Episodes: 11 | Win count: 43 | Win rate: 0.906 | time: 9.18 minutes\n",
      "Epoch: 069/999 | Loss: 0.0135 | Episodes: 11 | Win count: 43 | Win rate: 0.906 | time: 9.18 minutes\n",
      "Epoch: 070/999 | Loss: 0.0538 | Episodes: 35 | Win count: 44 | Win rate: 0.906 | time: 9.24 minutes\n",
      "Epoch: 070/999 | Loss: 0.0538 | Episodes: 35 | Win count: 44 | Win rate: 0.906 | time: 9.24 minutes\n",
      "Epoch: 071/999 | Loss: 0.0272 | Episodes: 22 | Win count: 45 | Win rate: 0.938 | time: 9.28 minutes\n",
      "Epoch: 071/999 | Loss: 0.0272 | Episodes: 22 | Win count: 45 | Win rate: 0.938 | time: 9.28 minutes\n",
      "Epoch: 072/999 | Loss: 0.0201 | Episodes: 19 | Win count: 46 | Win rate: 0.938 | time: 9.32 minutes\n",
      "Epoch: 072/999 | Loss: 0.0201 | Episodes: 19 | Win count: 46 | Win rate: 0.938 | time: 9.32 minutes\n",
      "Epoch: 073/999 | Loss: 0.1746 | Episodes: 140 | Win count: 46 | Win rate: 0.906 | time: 9.58 minutes\n",
      "Epoch: 073/999 | Loss: 0.1746 | Episodes: 140 | Win count: 46 | Win rate: 0.906 | time: 9.58 minutes\n",
      "Epoch: 074/999 | Loss: 0.0030 | Episodes: 3 | Win count: 47 | Win rate: 0.906 | time: 9.59 minutes\n",
      "Epoch: 074/999 | Loss: 0.0030 | Episodes: 3 | Win count: 47 | Win rate: 0.906 | time: 9.59 minutes\n",
      "Epoch: 075/999 | Loss: 0.1473 | Episodes: 135 | Win count: 47 | Win rate: 0.875 | time: 9.82 minutes\n",
      "Epoch: 075/999 | Loss: 0.1473 | Episodes: 135 | Win count: 47 | Win rate: 0.875 | time: 9.82 minutes\n",
      "Epoch: 076/999 | Loss: 0.0121 | Episodes: 15 | Win count: 48 | Win rate: 0.875 | time: 9.85 minutes\n",
      "Epoch: 076/999 | Loss: 0.0121 | Episodes: 15 | Win count: 48 | Win rate: 0.875 | time: 9.85 minutes\n",
      "Epoch: 077/999 | Loss: 0.0090 | Episodes: 11 | Win count: 49 | Win rate: 0.875 | time: 9.87 minutes\n",
      "Epoch: 077/999 | Loss: 0.0090 | Episodes: 11 | Win count: 49 | Win rate: 0.875 | time: 9.87 minutes\n",
      "Epoch: 078/999 | Loss: 0.0043 | Episodes: 5 | Win count: 50 | Win rate: 0.875 | time: 9.88 minutes\n",
      "Epoch: 078/999 | Loss: 0.0043 | Episodes: 5 | Win count: 50 | Win rate: 0.875 | time: 9.88 minutes\n",
      "Epoch: 079/999 | Loss: 0.0296 | Episodes: 30 | Win count: 51 | Win rate: 0.875 | time: 9.93 minutes\n",
      "Epoch: 079/999 | Loss: 0.0296 | Episodes: 30 | Win count: 51 | Win rate: 0.875 | time: 9.93 minutes\n",
      "Epoch: 080/999 | Loss: 0.1090 | Episodes: 136 | Win count: 51 | Win rate: 0.875 | time: 10.15 minutes\n",
      "Epoch: 080/999 | Loss: 0.1090 | Episodes: 136 | Win count: 51 | Win rate: 0.875 | time: 10.15 minutes\n",
      "Epoch: 081/999 | Loss: 0.0011 | Episodes: 2 | Win count: 52 | Win rate: 0.875 | time: 10.16 minutes\n",
      "Epoch: 081/999 | Loss: 0.0011 | Episodes: 2 | Win count: 52 | Win rate: 0.875 | time: 10.16 minutes\n",
      "Epoch: 082/999 | Loss: 0.0107 | Episodes: 11 | Win count: 53 | Win rate: 0.875 | time: 10.18 minutes\n",
      "Epoch: 082/999 | Loss: 0.0107 | Episodes: 11 | Win count: 53 | Win rate: 0.875 | time: 10.18 minutes\n",
      "Epoch: 083/999 | Loss: 0.0165 | Episodes: 22 | Win count: 54 | Win rate: 0.875 | time: 10.21 minutes\n",
      "Epoch: 083/999 | Loss: 0.0165 | Episodes: 22 | Win count: 54 | Win rate: 0.875 | time: 10.21 minutes\n",
      "Epoch: 084/999 | Loss: 0.1105 | Episodes: 139 | Win count: 54 | Win rate: 0.844 | time: 10.46 minutes\n",
      "Epoch: 084/999 | Loss: 0.1105 | Episodes: 139 | Win count: 54 | Win rate: 0.844 | time: 10.46 minutes\n",
      "Epoch: 085/999 | Loss: 0.0933 | Episodes: 109 | Win count: 55 | Win rate: 0.844 | time: 10.66 minutes\n",
      "Epoch: 085/999 | Loss: 0.0933 | Episodes: 109 | Win count: 55 | Win rate: 0.844 | time: 10.66 minutes\n",
      "Epoch: 086/999 | Loss: 0.0138 | Episodes: 14 | Win count: 56 | Win rate: 0.844 | time: 10.68 minutes\n",
      "Epoch: 086/999 | Loss: 0.0138 | Episodes: 14 | Win count: 56 | Win rate: 0.844 | time: 10.68 minutes\n",
      "Epoch: 087/999 | Loss: 0.0254 | Episodes: 20 | Win count: 57 | Win rate: 0.844 | time: 10.72 minutes\n",
      "Epoch: 087/999 | Loss: 0.0254 | Episodes: 20 | Win count: 57 | Win rate: 0.844 | time: 10.72 minutes\n",
      "Epoch: 088/999 | Loss: 0.0018 | Episodes: 2 | Win count: 58 | Win rate: 0.844 | time: 10.72 minutes\n",
      "Epoch: 088/999 | Loss: 0.0018 | Episodes: 2 | Win count: 58 | Win rate: 0.844 | time: 10.72 minutes\n",
      "Epoch: 089/999 | Loss: 0.0211 | Episodes: 20 | Win count: 59 | Win rate: 0.875 | time: 10.76 minutes\n",
      "Epoch: 089/999 | Loss: 0.0211 | Episodes: 20 | Win count: 59 | Win rate: 0.875 | time: 10.76 minutes\n",
      "Epoch: 090/999 | Loss: 0.0178 | Episodes: 18 | Win count: 60 | Win rate: 0.875 | time: 10.79 minutes\n",
      "Epoch: 090/999 | Loss: 0.0178 | Episodes: 18 | Win count: 60 | Win rate: 0.875 | time: 10.79 minutes\n",
      "Epoch: 091/999 | Loss: 0.0411 | Episodes: 43 | Win count: 61 | Win rate: 0.875 | time: 10.86 minutes\n",
      "Epoch: 091/999 | Loss: 0.0411 | Episodes: 43 | Win count: 61 | Win rate: 0.875 | time: 10.86 minutes\n",
      "Epoch: 092/999 | Loss: 0.0132 | Episodes: 16 | Win count: 62 | Win rate: 0.875 | time: 10.88 minutes\n",
      "Epoch: 092/999 | Loss: 0.0132 | Episodes: 16 | Win count: 62 | Win rate: 0.875 | time: 10.88 minutes\n",
      "Epoch: 093/999 | Loss: 0.0389 | Episodes: 39 | Win count: 63 | Win rate: 0.875 | time: 10.95 minutes\n",
      "Epoch: 093/999 | Loss: 0.0389 | Episodes: 39 | Win count: 63 | Win rate: 0.875 | time: 10.95 minutes\n",
      "Epoch: 094/999 | Loss: 0.0730 | Episodes: 64 | Win count: 64 | Win rate: 0.875 | time: 11.06 minutes\n",
      "Epoch: 094/999 | Loss: 0.0730 | Episodes: 64 | Win count: 64 | Win rate: 0.875 | time: 11.06 minutes\n",
      "Epoch: 095/999 | Loss: 0.0147 | Episodes: 12 | Win count: 65 | Win rate: 0.875 | time: 11.08 minutes\n",
      "Epoch: 095/999 | Loss: 0.0147 | Episodes: 12 | Win count: 65 | Win rate: 0.875 | time: 11.08 minutes\n",
      "Epoch: 096/999 | Loss: 0.0158 | Episodes: 13 | Win count: 66 | Win rate: 0.875 | time: 11.10 minutes\n",
      "Epoch: 096/999 | Loss: 0.0158 | Episodes: 13 | Win count: 66 | Win rate: 0.875 | time: 11.10 minutes\n",
      "Epoch: 097/999 | Loss: 0.0294 | Episodes: 25 | Win count: 67 | Win rate: 0.875 | time: 11.14 minutes\n",
      "Epoch: 097/999 | Loss: 0.0294 | Episodes: 25 | Win count: 67 | Win rate: 0.875 | time: 11.14 minutes\n",
      "Epoch: 098/999 | Loss: 0.0439 | Episodes: 44 | Win count: 68 | Win rate: 0.875 | time: 11.22 minutes\n",
      "Epoch: 098/999 | Loss: 0.0439 | Episodes: 44 | Win count: 68 | Win rate: 0.875 | time: 11.22 minutes\n",
      "Epoch: 099/999 | Loss: 0.0812 | Episodes: 67 | Win count: 69 | Win rate: 0.875 | time: 11.34 minutes\n",
      "Epoch: 099/999 | Loss: 0.0812 | Episodes: 67 | Win count: 69 | Win rate: 0.875 | time: 11.34 minutes\n",
      "Epoch: 100/999 | Loss: 0.0051 | Episodes: 4 | Win count: 70 | Win rate: 0.875 | time: 11.34 minutes\n",
      "Epoch: 100/999 | Loss: 0.0051 | Episodes: 4 | Win count: 70 | Win rate: 0.875 | time: 11.34 minutes\n",
      "Epoch: 101/999 | Loss: 0.0191 | Episodes: 16 | Win count: 71 | Win rate: 0.875 | time: 11.38 minutes\n",
      "Epoch: 101/999 | Loss: 0.0191 | Episodes: 16 | Win count: 71 | Win rate: 0.875 | time: 11.38 minutes\n",
      "Epoch: 102/999 | Loss: 0.0012 | Episodes: 1 | Win count: 72 | Win rate: 0.875 | time: 11.38 minutes\n",
      "Epoch: 102/999 | Loss: 0.0012 | Episodes: 1 | Win count: 72 | Win rate: 0.875 | time: 11.38 minutes\n",
      "Epoch: 103/999 | Loss: 0.0567 | Episodes: 48 | Win count: 73 | Win rate: 0.875 | time: 11.49 minutes\n",
      "Epoch: 103/999 | Loss: 0.0567 | Episodes: 48 | Win count: 73 | Win rate: 0.875 | time: 11.49 minutes\n",
      "Epoch: 104/999 | Loss: 0.0340 | Episodes: 27 | Win count: 74 | Win rate: 0.875 | time: 11.56 minutes\n",
      "Epoch: 104/999 | Loss: 0.0340 | Episodes: 27 | Win count: 74 | Win rate: 0.875 | time: 11.56 minutes\n",
      "Epoch: 105/999 | Loss: 0.0169 | Episodes: 16 | Win count: 75 | Win rate: 0.906 | time: 11.60 minutes\n",
      "Epoch: 105/999 | Loss: 0.0169 | Episodes: 16 | Win count: 75 | Win rate: 0.906 | time: 11.60 minutes\n",
      "Epoch: 106/999 | Loss: 0.0404 | Episodes: 37 | Win count: 76 | Win rate: 0.906 | time: 11.70 minutes\n",
      "Epoch: 106/999 | Loss: 0.0404 | Episodes: 37 | Win count: 76 | Win rate: 0.906 | time: 11.70 minutes\n",
      "Epoch: 107/999 | Loss: 0.0185 | Episodes: 13 | Win count: 77 | Win rate: 0.938 | time: 11.73 minutes\n",
      "Epoch: 107/999 | Loss: 0.0185 | Episodes: 13 | Win count: 77 | Win rate: 0.938 | time: 11.73 minutes\n",
      "Epoch: 108/999 | Loss: 0.0269 | Episodes: 23 | Win count: 78 | Win rate: 0.938 | time: 11.78 minutes\n",
      "Epoch: 108/999 | Loss: 0.0269 | Episodes: 23 | Win count: 78 | Win rate: 0.938 | time: 11.78 minutes\n",
      "Epoch: 109/999 | Loss: 0.0460 | Episodes: 36 | Win count: 79 | Win rate: 0.938 | time: 11.86 minutes\n",
      "Epoch: 109/999 | Loss: 0.0460 | Episodes: 36 | Win count: 79 | Win rate: 0.938 | time: 11.86 minutes\n",
      "Epoch: 110/999 | Loss: 0.0500 | Episodes: 42 | Win count: 80 | Win rate: 0.938 | time: 11.95 minutes\n",
      "Epoch: 110/999 | Loss: 0.0500 | Episodes: 42 | Win count: 80 | Win rate: 0.938 | time: 11.95 minutes\n",
      "Epoch: 111/999 | Loss: 0.0105 | Episodes: 10 | Win count: 81 | Win rate: 0.938 | time: 11.98 minutes\n",
      "Epoch: 111/999 | Loss: 0.0105 | Episodes: 10 | Win count: 81 | Win rate: 0.938 | time: 11.98 minutes\n",
      "Epoch: 112/999 | Loss: 0.0182 | Episodes: 20 | Win count: 82 | Win rate: 0.969 | time: 12.02 minutes\n",
      "Epoch: 112/999 | Loss: 0.0182 | Episodes: 20 | Win count: 82 | Win rate: 0.969 | time: 12.02 minutes\n",
      "Epoch: 113/999 | Loss: 0.0249 | Episodes: 22 | Win count: 83 | Win rate: 0.969 | time: 12.07 minutes\n",
      "Epoch: 113/999 | Loss: 0.0249 | Episodes: 22 | Win count: 83 | Win rate: 0.969 | time: 12.07 minutes\n",
      "Epoch: 114/999 | Loss: 0.0503 | Episodes: 41 | Win count: 84 | Win rate: 0.969 | time: 12.16 minutes\n",
      "Epoch: 114/999 | Loss: 0.0503 | Episodes: 41 | Win count: 84 | Win rate: 0.969 | time: 12.16 minutes\n",
      "Epoch: 115/999 | Loss: 0.0568 | Episodes: 49 | Win count: 85 | Win rate: 0.969 | time: 12.28 minutes\n",
      "Epoch: 115/999 | Loss: 0.0568 | Episodes: 49 | Win count: 85 | Win rate: 0.969 | time: 12.28 minutes\n",
      "Epoch: 116/999 | Loss: 0.0058 | Episodes: 4 | Win count: 86 | Win rate: 1.000 | time: 12.29 minutes\n",
      "Epoch: 116/999 | Loss: 0.0058 | Episodes: 4 | Win count: 86 | Win rate: 1.000 | time: 12.29 minutes\n",
      "Epoch: 117/999 | Loss: 0.0144 | Episodes: 11 | Win count: 87 | Win rate: 1.000 | time: 12.32 minutes\n",
      "Epoch: 117/999 | Loss: 0.0144 | Episodes: 11 | Win count: 87 | Win rate: 1.000 | time: 12.32 minutes\n",
      "Epoch: 118/999 | Loss: 0.0330 | Episodes: 27 | Win count: 88 | Win rate: 1.000 | time: 12.39 minutes\n",
      "Epoch: 118/999 | Loss: 0.0330 | Episodes: 27 | Win count: 88 | Win rate: 1.000 | time: 12.40 minutes\n",
      "Epoch: 119/999 | Loss: 0.0582 | Episodes: 55 | Win count: 89 | Win rate: 1.000 | time: 12.50 minutes\n",
      "Epoch: 119/999 | Loss: 0.0582 | Episodes: 55 | Win count: 89 | Win rate: 1.000 | time: 12.50 minutes\n",
      "Epoch: 120/999 | Loss: 0.0652 | Episodes: 48 | Win count: 90 | Win rate: 1.000 | time: 12.60 minutes\n",
      "Epoch: 120/999 | Loss: 0.0652 | Episodes: 48 | Win count: 90 | Win rate: 1.000 | time: 12.61 minutes\n",
      "Epoch: 121/999 | Loss: 0.0199 | Episodes: 15 | Win count: 91 | Win rate: 1.000 | time: 12.64 minutes\n",
      "Epoch: 121/999 | Loss: 0.0199 | Episodes: 15 | Win count: 91 | Win rate: 1.000 | time: 12.65 minutes\n",
      "Epoch: 122/999 | Loss: 0.0377 | Episodes: 32 | Win count: 92 | Win rate: 1.000 | time: 12.70 minutes\n",
      "Epoch: 122/999 | Loss: 0.0377 | Episodes: 32 | Win count: 92 | Win rate: 1.000 | time: 12.71 minutes\n",
      "Epoch: 123/999 | Loss: 0.0071 | Episodes: 7 | Win count: 93 | Win rate: 1.000 | time: 12.73 minutes\n",
      "Epoch: 123/999 | Loss: 0.0071 | Episodes: 7 | Win count: 93 | Win rate: 1.000 | time: 12.74 minutes\n",
      "Epoch: 124/999 | Loss: 0.0274 | Episodes: 29 | Win count: 94 | Win rate: 1.000 | time: 12.79 minutes\n",
      "Epoch: 124/999 | Loss: 0.0274 | Episodes: 29 | Win count: 94 | Win rate: 1.000 | time: 12.80 minutes\n",
      "Epoch: 125/999 | Loss: 0.0122 | Episodes: 15 | Win count: 95 | Win rate: 1.000 | time: 12.83 minutes\n",
      "Epoch: 125/999 | Loss: 0.0122 | Episodes: 15 | Win count: 95 | Win rate: 1.000 | time: 12.83 minutes\n",
      "Epoch: 126/999 | Loss: 0.0054 | Episodes: 6 | Win count: 96 | Win rate: 1.000 | time: 12.84 minutes\n",
      "Epoch: 126/999 | Loss: 0.0054 | Episodes: 6 | Win count: 96 | Win rate: 1.000 | time: 12.85 minutes\n",
      "Epoch: 127/999 | Loss: 0.0087 | Episodes: 9 | Win count: 97 | Win rate: 1.000 | time: 12.87 minutes\n",
      "Epoch: 127/999 | Loss: 0.0087 | Episodes: 9 | Win count: 97 | Win rate: 1.000 | time: 12.87 minutes\n",
      "Epoch: 128/999 | Loss: 0.0103 | Episodes: 12 | Win count: 98 | Win rate: 1.000 | time: 12.90 minutes\n",
      "Epoch: 128/999 | Loss: 0.0103 | Episodes: 12 | Win count: 98 | Win rate: 1.000 | time: 12.90 minutes\n",
      "Epoch: 129/999 | Loss: 0.0194 | Episodes: 22 | Win count: 99 | Win rate: 1.000 | time: 12.95 minutes\n",
      "Epoch: 129/999 | Loss: 0.0194 | Episodes: 22 | Win count: 99 | Win rate: 1.000 | time: 12.96 minutes\n",
      "Epoch: 130/999 | Loss: 0.0265 | Episodes: 26 | Win count: 100 | Win rate: 1.000 | time: 13.01 minutes\n",
      "Epoch: 130/999 | Loss: 0.0265 | Episodes: 26 | Win count: 100 | Win rate: 1.000 | time: 13.02 minutes\n",
      "Epoch: 131/999 | Loss: 0.0094 | Episodes: 14 | Win count: 101 | Win rate: 1.000 | time: 13.05 minutes\n",
      "Epoch: 131/999 | Loss: 0.0094 | Episodes: 14 | Win count: 101 | Win rate: 1.000 | time: 13.06 minutes\n",
      "Epoch: 132/999 | Loss: 0.0143 | Episodes: 18 | Win count: 102 | Win rate: 1.000 | time: 13.09 minutes\n",
      "Epoch: 132/999 | Loss: 0.0143 | Episodes: 18 | Win count: 102 | Win rate: 1.000 | time: 13.09 minutes\n",
      "Epoch: 133/999 | Loss: 0.0201 | Episodes: 23 | Win count: 103 | Win rate: 1.000 | time: 13.13 minutes\n",
      "Epoch: 133/999 | Loss: 0.0201 | Episodes: 23 | Win count: 103 | Win rate: 1.000 | time: 13.13 minutes\n",
      "Epoch: 134/999 | Loss: 0.0013 | Episodes: 2 | Win count: 104 | Win rate: 1.000 | time: 13.14 minutes\n",
      "Epoch: 134/999 | Loss: 0.0013 | Episodes: 2 | Win count: 104 | Win rate: 1.000 | time: 13.14 minutes\n",
      "Epoch: 135/999 | Loss: 0.0340 | Episodes: 36 | Win count: 105 | Win rate: 1.000 | time: 13.21 minutes\n",
      "Epoch: 135/999 | Loss: 0.0340 | Episodes: 36 | Win count: 105 | Win rate: 1.000 | time: 13.21 minutes\n",
      "Epoch: 136/999 | Loss: 0.0100 | Episodes: 10 | Win count: 106 | Win rate: 1.000 | time: 13.24 minutes\n",
      "Epoch: 136/999 | Loss: 0.0100 | Episodes: 10 | Win count: 106 | Win rate: 1.000 | time: 13.24 minutes\n",
      "Epoch: 137/999 | Loss: 0.0063 | Episodes: 6 | Win count: 107 | Win rate: 1.000 | time: 13.25 minutes\n",
      "Epoch: 137/999 | Loss: 0.0063 | Episodes: 6 | Win count: 107 | Win rate: 1.000 | time: 13.25 minutes\n",
      "Epoch: 138/999 | Loss: 0.0236 | Episodes: 27 | Win count: 108 | Win rate: 1.000 | time: 13.31 minutes\n",
      "Epoch: 138/999 | Loss: 0.0236 | Episodes: 27 | Win count: 108 | Win rate: 1.000 | time: 13.32 minutes\n",
      "Epoch: 139/999 | Loss: 0.0103 | Episodes: 11 | Win count: 109 | Win rate: 1.000 | time: 13.34 minutes\n",
      "Epoch: 139/999 | Loss: 0.0103 | Episodes: 11 | Win count: 109 | Win rate: 1.000 | time: 13.34 minutes\n",
      "Epoch: 140/999 | Loss: 0.0165 | Episodes: 21 | Win count: 110 | Win rate: 1.000 | time: 13.39 minutes\n",
      "Epoch: 140/999 | Loss: 0.0165 | Episodes: 21 | Win count: 110 | Win rate: 1.000 | time: 13.39 minutes\n",
      "Epoch: 141/999 | Loss: 0.0084 | Episodes: 12 | Win count: 111 | Win rate: 1.000 | time: 13.42 minutes\n",
      "Epoch: 141/999 | Loss: 0.0084 | Episodes: 12 | Win count: 111 | Win rate: 1.000 | time: 13.42 minutes\n",
      "Epoch: 142/999 | Loss: 0.0158 | Episodes: 18 | Win count: 112 | Win rate: 1.000 | time: 13.46 minutes\n",
      "Epoch: 142/999 | Loss: 0.0158 | Episodes: 18 | Win count: 112 | Win rate: 1.000 | time: 13.47 minutes\n",
      "Epoch: 143/999 | Loss: 0.0103 | Episodes: 11 | Win count: 113 | Win rate: 1.000 | time: 13.49 minutes\n",
      "Epoch: 143/999 | Loss: 0.0103 | Episodes: 11 | Win count: 113 | Win rate: 1.000 | time: 13.50 minutes\n",
      "Epoch: 144/999 | Loss: 0.0038 | Episodes: 5 | Win count: 114 | Win rate: 1.000 | time: 13.50 minutes\n",
      "Epoch: 144/999 | Loss: 0.0038 | Episodes: 5 | Win count: 114 | Win rate: 1.000 | time: 13.51 minutes\n",
      "Epoch: 145/999 | Loss: 0.0101 | Episodes: 14 | Win count: 115 | Win rate: 1.000 | time: 13.53 minutes\n",
      "Epoch: 145/999 | Loss: 0.0101 | Episodes: 14 | Win count: 115 | Win rate: 1.000 | time: 13.54 minutes\n",
      "Epoch: 146/999 | Loss: 0.0180 | Episodes: 26 | Win count: 116 | Win rate: 1.000 | time: 13.59 minutes\n",
      "Epoch: 146/999 | Loss: 0.0180 | Episodes: 26 | Win count: 116 | Win rate: 1.000 | time: 13.59 minutes\n",
      "Epoch: 147/999 | Loss: 0.0196 | Episodes: 30 | Win count: 117 | Win rate: 1.000 | time: 13.65 minutes\n",
      "Epoch: 147/999 | Loss: 0.0196 | Episodes: 30 | Win count: 117 | Win rate: 1.000 | time: 13.65 minutes\n",
      "Epoch: 148/999 | Loss: 0.0173 | Episodes: 22 | Win count: 118 | Win rate: 1.000 | time: 13.69 minutes\n",
      "Epoch: 148/999 | Loss: 0.0173 | Episodes: 22 | Win count: 118 | Win rate: 1.000 | time: 13.69 minutes\n",
      "Epoch: 149/999 | Loss: 0.0074 | Episodes: 9 | Win count: 119 | Win rate: 1.000 | time: 13.71 minutes\n",
      "Epoch: 149/999 | Loss: 0.0074 | Episodes: 9 | Win count: 119 | Win rate: 1.000 | time: 13.71 minutes\n",
      "Epoch: 150/999 | Loss: 0.0146 | Episodes: 14 | Win count: 120 | Win rate: 1.000 | time: 13.73 minutes\n",
      "Epoch: 150/999 | Loss: 0.0146 | Episodes: 14 | Win count: 120 | Win rate: 1.000 | time: 13.74 minutes\n",
      "Epoch: 151/999 | Loss: 0.0576 | Episodes: 44 | Win count: 121 | Win rate: 1.000 | time: 13.79 minutes\n",
      "Epoch: 151/999 | Loss: 0.0576 | Episodes: 44 | Win count: 121 | Win rate: 1.000 | time: 13.80 minutes\n",
      "Epoch: 152/999 | Loss: 0.0697 | Episodes: 27 | Win count: 122 | Win rate: 1.000 | time: 13.85 minutes\n",
      "Epoch: 152/999 | Loss: 0.0697 | Episodes: 27 | Win count: 122 | Win rate: 1.000 | time: 13.85 minutes\n",
      "Epoch: 153/999 | Loss: 0.2341 | Episodes: 126 | Win count: 123 | Win rate: 1.000 | time: 14.02 minutes\n",
      "Epoch: 153/999 | Loss: 0.2341 | Episodes: 126 | Win count: 123 | Win rate: 1.000 | time: 14.02 minutes\n",
      "Epoch: 154/999 | Loss: 0.0928 | Episodes: 45 | Win count: 124 | Win rate: 1.000 | time: 14.09 minutes\n",
      "Epoch: 154/999 | Loss: 0.0928 | Episodes: 45 | Win count: 124 | Win rate: 1.000 | time: 14.09 minutes\n",
      "Epoch: 155/999 | Loss: 0.0624 | Episodes: 28 | Win count: 125 | Win rate: 1.000 | time: 14.13 minutes\n",
      "Epoch: 155/999 | Loss: 0.0624 | Episodes: 28 | Win count: 125 | Win rate: 1.000 | time: 14.13 minutes\n",
      "Epoch: 156/999 | Loss: 0.0541 | Episodes: 38 | Win count: 126 | Win rate: 1.000 | time: 14.18 minutes\n",
      "Epoch: 156/999 | Loss: 0.0541 | Episodes: 38 | Win count: 126 | Win rate: 1.000 | time: 14.19 minutes\n",
      "Epoch: 157/999 | Loss: 0.1108 | Episodes: 59 | Win count: 127 | Win rate: 1.000 | time: 14.27 minutes\n",
      "Epoch: 157/999 | Loss: 0.1108 | Episodes: 59 | Win count: 127 | Win rate: 1.000 | time: 14.28 minutes\n",
      "Epoch: 158/999 | Loss: 0.0576 | Episodes: 20 | Win count: 128 | Win rate: 1.000 | time: 14.30 minutes\n",
      "Epoch: 158/999 | Loss: 0.0576 | Episodes: 20 | Win count: 128 | Win rate: 1.000 | time: 14.31 minutes\n",
      "Epoch: 159/999 | Loss: 0.0375 | Episodes: 19 | Win count: 129 | Win rate: 1.000 | time: 14.34 minutes\n",
      "Epoch: 159/999 | Loss: 0.0375 | Episodes: 19 | Win count: 129 | Win rate: 1.000 | time: 14.35 minutes\n",
      "Epoch: 160/999 | Loss: 0.0465 | Episodes: 21 | Win count: 130 | Win rate: 1.000 | time: 14.38 minutes\n",
      "Epoch: 160/999 | Loss: 0.0465 | Episodes: 21 | Win count: 130 | Win rate: 1.000 | time: 14.38 minutes\n",
      "Epoch: 161/999 | Loss: 0.0486 | Episodes: 25 | Win count: 131 | Win rate: 1.000 | time: 14.42 minutes\n",
      "Epoch: 161/999 | Loss: 0.0486 | Episodes: 25 | Win count: 131 | Win rate: 1.000 | time: 14.42 minutes\n",
      "Epoch: 162/999 | Loss: 0.0971 | Episodes: 33 | Win count: 132 | Win rate: 1.000 | time: 14.48 minutes\n",
      "Epoch: 162/999 | Loss: 0.0971 | Episodes: 33 | Win count: 132 | Win rate: 1.000 | time: 14.49 minutes\n",
      "Epoch: 163/999 | Loss: 0.1777 | Episodes: 103 | Win count: 133 | Win rate: 1.000 | time: 14.63 minutes\n",
      "Epoch: 163/999 | Loss: 0.1777 | Episodes: 103 | Win count: 133 | Win rate: 1.000 | time: 14.64 minutes\n",
      "Epoch: 164/999 | Loss: 0.0433 | Episodes: 35 | Win count: 134 | Win rate: 1.000 | time: 14.69 minutes\n",
      "Epoch: 164/999 | Loss: 0.0433 | Episodes: 35 | Win count: 134 | Win rate: 1.000 | time: 14.70 minutes\n",
      "Epoch: 165/999 | Loss: 0.0948 | Episodes: 53 | Win count: 135 | Win rate: 1.000 | time: 14.79 minutes\n",
      "Epoch: 165/999 | Loss: 0.0948 | Episodes: 53 | Win count: 135 | Win rate: 1.000 | time: 14.80 minutes\n",
      "Epoch: 166/999 | Loss: 0.0349 | Episodes: 25 | Win count: 136 | Win rate: 1.000 | time: 14.83 minutes\n",
      "Epoch: 166/999 | Loss: 0.0349 | Episodes: 25 | Win count: 136 | Win rate: 1.000 | time: 14.84 minutes\n",
      "Epoch: 167/999 | Loss: 0.0354 | Episodes: 21 | Win count: 137 | Win rate: 1.000 | time: 14.88 minutes\n",
      "Epoch: 167/999 | Loss: 0.0354 | Episodes: 21 | Win count: 137 | Win rate: 1.000 | time: 14.89 minutes\n",
      "Epoch: 168/999 | Loss: 0.0752 | Episodes: 55 | Win count: 138 | Win rate: 1.000 | time: 14.98 minutes\n",
      "Epoch: 168/999 | Loss: 0.0752 | Episodes: 55 | Win count: 138 | Win rate: 1.000 | time: 14.98 minutes\n",
      "Epoch: 169/999 | Loss: 0.0510 | Episodes: 26 | Win count: 139 | Win rate: 1.000 | time: 15.02 minutes\n",
      "Epoch: 169/999 | Loss: 0.0510 | Episodes: 26 | Win count: 139 | Win rate: 1.000 | time: 15.03 minutes\n",
      "Epoch: 170/999 | Loss: 0.0301 | Episodes: 20 | Win count: 140 | Win rate: 1.000 | time: 15.05 minutes\n",
      "Epoch: 170/999 | Loss: 0.0301 | Episodes: 20 | Win count: 140 | Win rate: 1.000 | time: 15.07 minutes\n",
      "Epoch: 171/999 | Loss: 0.0276 | Episodes: 22 | Win count: 141 | Win rate: 1.000 | time: 15.11 minutes\n",
      "Epoch: 171/999 | Loss: 0.0276 | Episodes: 22 | Win count: 141 | Win rate: 1.000 | time: 15.11 minutes\n",
      "Epoch: 172/999 | Loss: 0.0136 | Episodes: 16 | Win count: 142 | Win rate: 1.000 | time: 15.14 minutes\n",
      "Epoch: 172/999 | Loss: 0.0136 | Episodes: 16 | Win count: 142 | Win rate: 1.000 | time: 15.15 minutes\n",
      "Epoch: 173/999 | Loss: 0.0015 | Episodes: 2 | Win count: 143 | Win rate: 1.000 | time: 15.16 minutes\n",
      "Reached 100% win rate at epoch: 173\n",
      "n_epoch: 173, max_mem: 512, data: 32, time: 15.17 minutes\n"
     ]
    },
    {
     "data": {
      "text/plain": [
       "910.336278"
      ]
     },
     "execution_count": 104,
     "metadata": {},
     "output_type": "execute_result"
    }
   ],
   "source": [
    "model = build_model(maze)\n",
    "qtrain(model, maze, epochs=1000, max_memory=8*maze.size, data_size=32)"
   ]
  },
  {
   "cell_type": "markdown",
   "metadata": {},
   "source": [
    "This cell will check to see if the model passes the completion check. Note: This could take several minutes."
   ]
  },
  {
   "cell_type": "code",
   "execution_count": 105,
   "metadata": {},
   "outputs": [
    {
     "data": {
      "text/plain": [
       "<matplotlib.image.AxesImage at 0x27831450048>"
      ]
     },
     "execution_count": 105,
     "metadata": {},
     "output_type": "execute_result"
    },
    {
     "data": {
      "image/png": "[encoded data removed]",
      "text/plain": [
       "<Figure size 432x288 with 1 Axes>"
      ]
     },
     "metadata": {
      "needs_background": "light"
     },
     "output_type": "display_data"
    }
   ],
   "source": [
    "completion_check(model, qmaze)\n",
    "show(qmaze)"
   ]
  },
  {
   "cell_type": "markdown",
   "metadata": {},
   "source": [
    "This cell will test your model for one game. It will start the pirate at the top-left corner and run play_game. The agent should find a path from the starting position to the target (treasure). The treasure is located in the bottom-right corner."
   ]
  },
  {
   "cell_type": "code",
   "execution_count": 106,
   "metadata": {},
   "outputs": [
    {
     "data": {
      "text/plain": [
       "<matplotlib.image.AxesImage at 0x278294aa348>"
      ]
     },
     "execution_count": 106,
     "metadata": {},
     "output_type": "execute_result"
    },
    {
     "data": {
      "image/png": "[encoded data removed]",
      "text/plain": [
       "<Figure size 432x288 with 1 Axes>"
      ]
     },
     "metadata": {
      "needs_background": "light"
     },
     "output_type": "display_data"
    }
   ],
   "source": [
    "pirate_start = (0, 0)\n",
    "play_game(model, qmaze, pirate_start)\n",
    "show(qmaze)"
   ]
  },
  {
   "cell_type": "markdown",
   "metadata": {},
   "source": [
    "## Save and Submit Your Work\n",
    "After you have finished creating the code for your notebook, save your work. Make sure that your notebook contains your name in the filename (e.g. Doe_Jane_ProjectTwo.ipynb). This will help your instructor access and grade your work easily. Download a copy of your IPYNB file and submit it to Brightspace. Refer to the Jupyter Notebook in Apporto Tutorial if you need help with these tasks."
   ]
  }
 ],
 "metadata": {
  "kernelspec": {
   "display_name": "Python 3",
   "language": "python",
   "name": "python3"
  },
  "language_info": {
   "codemirror_mode": {
    "name": "ipython",
    "version": 3
   },
   "file_extension": ".py",
   "mimetype": "text/x-python",
   "name": "python",
   "nbconvert_exporter": "python",
   "pygments_lexer": "ipython3",
   "version": "3.7.4"
  }
 },
 "nbformat": 4,
 "nbformat_minor": 2
}
